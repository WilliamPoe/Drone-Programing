{
 "cells": [
  {
   "cell_type": "code",
   "execution_count": 2,
   "id": "ead57cb3",
   "metadata": {},
   "outputs": [
    {
     "name": "stdout",
     "output_type": "stream",
     "text": [
      "Collecting CoDrone\n",
      "  Using cached CoDrone-1.2.8-py3-none-any.whl (32 kB)\n",
      "Requirement already satisfied: colorama in c:\\users\\willi\\anaconda3\\lib\\site-packages (from CoDrone) (0.4.5)\n",
      "Requirement already satisfied: numpy in c:\\users\\willi\\anaconda3\\lib\\site-packages (from CoDrone) (1.21.5)\n",
      "Collecting pyserial>=3.5\n",
      "  Using cached pyserial-3.5-py2.py3-none-any.whl (90 kB)\n",
      "Requirement already satisfied: matplotlib in c:\\users\\willi\\anaconda3\\lib\\site-packages (from CoDrone) (3.5.2)\n",
      "Requirement already satisfied: kiwisolver>=1.0.1 in c:\\users\\willi\\anaconda3\\lib\\site-packages (from matplotlib->CoDrone) (1.4.2)\n",
      "Requirement already satisfied: python-dateutil>=2.7 in c:\\users\\willi\\anaconda3\\lib\\site-packages (from matplotlib->CoDrone) (2.8.2)\n",
      "Requirement already satisfied: pillow>=6.2.0 in c:\\users\\willi\\anaconda3\\lib\\site-packages (from matplotlib->CoDrone) (9.2.0)\n",
      "Requirement already satisfied: packaging>=20.0 in c:\\users\\willi\\anaconda3\\lib\\site-packages (from matplotlib->CoDrone) (21.3)\n",
      "Requirement already satisfied: fonttools>=4.22.0 in c:\\users\\willi\\anaconda3\\lib\\site-packages (from matplotlib->CoDrone) (4.25.0)\n",
      "Requirement already satisfied: cycler>=0.10 in c:\\users\\willi\\anaconda3\\lib\\site-packages (from matplotlib->CoDrone) (0.11.0)\n",
      "Requirement already satisfied: pyparsing>=2.2.1 in c:\\users\\willi\\anaconda3\\lib\\site-packages (from matplotlib->CoDrone) (3.0.9)\n",
      "Requirement already satisfied: six>=1.5 in c:\\users\\willi\\anaconda3\\lib\\site-packages (from python-dateutil>=2.7->matplotlib->CoDrone) (1.16.0)\n",
      "Installing collected packages: pyserial, CoDrone\n",
      "Successfully installed CoDrone-1.2.8 pyserial-3.5\n"
     ]
    }
   ],
   "source": [
    "! pip install CoDrone\n"
   ]
  },
  {
   "cell_type": "code",
   "execution_count": 130,
   "id": "5c7dd510",
   "metadata": {},
   "outputs": [
    {
     "name": "stdout",
     "output_type": "stream",
     "text": [
      ">> Found USB Port : [COM9]\n",
      ">> Scanning for CoDrone ...\n",
      ">> Scanning for CoDrone ...\n",
      ">> Scanning for CoDrone ...\n",
      ">> Found CoDrone\n",
      ">> Drone : [6074]\n",
      ">> Battery : [100]\n"
     ]
    },
    {
     "data": {
      "text/plain": [
       "True"
      ]
     },
     "execution_count": 130,
     "metadata": {},
     "output_type": "execute_result"
    }
   ],
   "source": [
    "import CoDrone\n",
    "\n",
    "drone = CoDrone.CoDrone()\n",
    "drone.pair(drone.Nearest)\n",
    "# drone.pair() if paired to CoDrone before\n"
   ]
  },
  {
   "cell_type": "code",
   "execution_count": 134,
   "id": "976c4fd4",
   "metadata": {},
   "outputs": [
    {
     "name": "stdout",
     "output_type": "stream",
     "text": [
      "Taking off\n",
      "Landing\n",
      "Battery Level:  69\n"
     ]
    },
    {
     "name": "stderr",
     "output_type": "stream",
     "text": [
      "Exception in thread Thread-38:\n",
      "Traceback (most recent call last):\n",
      "  File \"C:\\Users\\willi\\anaconda3\\lib\\threading.py\", line 980, in _bootstrap_inner\n",
      "    self.run()\n",
      "  File \"C:\\Users\\willi\\anaconda3\\lib\\threading.py\", line 917, in run\n",
      "    self._target(*self._args, **self._kwargs)\n",
      "  File \"C:\\Users\\willi\\anaconda3\\lib\\site-packages\\CoDrone\\codrone.py\", line 144, in _receiving\n",
      "    self._bufferQueue.put(self._serialPort.read())\n",
      "  File \"C:\\Users\\willi\\anaconda3\\lib\\site-packages\\serial\\serialwin32.py\", line 275, in read\n",
      "    raise SerialException(\"ClearCommError failed ({!r})\".format(ctypes.WinError()))\n",
      "serial.serialutil.SerialException: ClearCommError failed (OSError(22, 'The I/O operation has been aborted because of either a thread exit or an application request.', None, 995))\n"
     ]
    }
   ],
   "source": [
    "drone.takeoff()\n",
    "print('Taking off')\n",
    "\n",
    "drone.set_yaw(20)\n",
    "drone.move(3)\n",
    "\n",
    "drone.set_yaw(20)\n",
    "drone.move(3)\n",
    "\n",
    "drone.set_yaw(20)\n",
    "drone.move(3)\n",
    "\n",
    "drone.set_yaw(20)\n",
    "drone.move(3)\n",
    "\n",
    "drone.land()\n",
    "print('Landing')\n",
    "\n",
    "battery = drone.get_battery_percentage()\n",
    "print(\"Battery Level: \", battery)"
   ]
  }
 ],
 "metadata": {
  "kernelspec": {
   "display_name": "Python 3 (ipykernel)",
   "language": "python",
   "name": "python3"
  },
  "language_info": {
   "codemirror_mode": {
    "name": "ipython",
    "version": 3
   },
   "file_extension": ".py",
   "mimetype": "text/x-python",
   "name": "python",
   "nbconvert_exporter": "python",
   "pygments_lexer": "ipython3",
   "version": "3.9.13"
  }
 },
 "nbformat": 4,
 "nbformat_minor": 5
}
