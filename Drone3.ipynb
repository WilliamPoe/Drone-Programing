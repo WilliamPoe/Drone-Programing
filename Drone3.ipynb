{
 "cells": [
  {
   "cell_type": "code",
   "execution_count": 167,
   "id": "894dff17",
   "metadata": {},
   "outputs": [
    {
     "name": "stdout",
     "output_type": "stream",
     "text": [
      ">> Found USB Port : [COM11]\n",
      ">> Scanning for CoDrone ...\n",
      ">> Scanning for CoDrone ...\n",
      ">> Found CoDrone\n",
      ">> Drone : [6060]\n",
      ">> Battery : [37]\n"
     ]
    }
   ],
   "source": [
    "import CoDrone\n",
    "from CoDrone import Direction\n",
    "\n",
    "drone = CoDrone.CoDrone()\n",
    "drone.pair(drone.Nearest)\n",
    "\n",
    "drone.takeoff()\n",
    "\n",
    "drone.set_pitch(5)\n",
    "drone.move(2)\n",
    "\n",
    "drone.turn(Direction.RIGHT,2,50)\n",
    "\n",
    "drone.set_pitch(5)\n",
    "drone.move(3)\n",
    "\n",
    "drone.land()\n",
    "drone.close()\n"
   ]
  }
 ],
 "metadata": {
  "kernelspec": {
   "display_name": "Python 3 (ipykernel)",
   "language": "python",
   "name": "python3"
  },
  "language_info": {
   "codemirror_mode": {
    "name": "ipython",
    "version": 3
   },
   "file_extension": ".py",
   "mimetype": "text/x-python",
   "name": "python",
   "nbconvert_exporter": "python",
   "pygments_lexer": "ipython3",
   "version": "3.9.13"
  }
 },
 "nbformat": 4,
 "nbformat_minor": 5
}
